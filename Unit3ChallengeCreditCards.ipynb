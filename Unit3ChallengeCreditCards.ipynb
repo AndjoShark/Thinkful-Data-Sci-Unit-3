{
 "cells": [
  {
   "cell_type": "code",
   "execution_count": 1,
   "metadata": {
    "collapsed": true
   },
   "outputs": [],
   "source": [
    "import pandas as pd\n",
    "import numpy as np\n",
    "from sklearn import linear_model\n",
    "from sklearn.model_selection import cross_val_score\n",
    "import matplotlib as plt\n",
    "from sklearn.model_selection import train_test_split\n",
    "from sklearn.metrics import f1_score\n",
    "from sklearn.linear_model import RidgeClassifier\n",
    "from sklearn.linear_model import LogisticRegression\n",
    "from sklearn import ensemble\n",
    "from sklearn.model_selection import cross_val_score\n",
    "from sklearn.ensemble import RandomForestClassifier\n",
    "from sklearn.metrics import precision_score"
   ]
  },
  {
   "cell_type": "code",
   "execution_count": 2,
   "metadata": {},
   "outputs": [
    {
     "data": {
      "text/plain": [
       "(284807, 31)"
      ]
     },
     "execution_count": 2,
     "metadata": {},
     "output_type": "execute_result"
    }
   ],
   "source": [
    "df = pd.read_csv('/Users/joshuarkarnad/Desktop/Thinkful/Data/creditcard.csv')\n",
    "df.shape"
   ]
  },
  {
   "cell_type": "code",
   "execution_count": 3,
   "metadata": {
    "collapsed": true
   },
   "outputs": [],
   "source": [
    "df_train, df_test = train_test_split(df, test_size =0.2)"
   ]
  },
  {
   "cell_type": "code",
   "execution_count": 4,
   "metadata": {
    "collapsed": true
   },
   "outputs": [],
   "source": [
    "X_train = df_train.loc[:, ~(df_train.columns).isin(['Class'])]\n",
    "Y_train = df_train.Class\n",
    "X_test = df_test.loc[:, ~(df_test.columns).isin(['Class'])]\n",
    "Y_test = df_test.Class"
   ]
  },
  {
   "cell_type": "code",
   "execution_count": 5,
   "metadata": {},
   "outputs": [
    {
     "data": {
      "text/plain": [
       "0.90476190476190477"
      ]
     },
     "execution_count": 5,
     "metadata": {},
     "output_type": "execute_result"
    }
   ],
   "source": [
    "ridger = linear_model.RidgeClassifier()\n",
    "ridger.fit(X_train, Y_train)\n",
    "Y_pred = ridger.predict(X_test)\n",
    "precision_score(Y_test, Y_pred)"
   ]
  },
  {
   "cell_type": "code",
   "execution_count": 6,
   "metadata": {},
   "outputs": [
    {
     "data": {
      "text/plain": [
       "array([ 0.00115234,  0.00234819,  0.0010024 , ...,  0.00135801,\n",
       "        0.00240804,  0.00119344])"
      ]
     },
     "execution_count": 6,
     "metadata": {},
     "output_type": "execute_result"
    }
   ],
   "source": [
    "lass = linear_model.Lasso()\n",
    "lass.fit(X_train, Y_train)\n",
    "Y_Lass_Pred = lass.predict(X_test)\n",
    "# precision_score(Y_test, Y_Lass_Pred)\n",
    "Y_Lass_Pred"
   ]
  },
  {
   "cell_type": "code",
   "execution_count": 9,
   "metadata": {},
   "outputs": [
    {
     "data": {
      "text/plain": [
       "0.93333333333333335"
      ]
     },
     "execution_count": 9,
     "metadata": {},
     "output_type": "execute_result"
    }
   ],
   "source": [
    "gbc = ensemble.GradientBoostingClassifier()\n",
    "gbc.fit(X_train, Y_train)\n",
    "Y_GBC_pred = gbc.predict(X_test)\n",
    "precision_score(Y_test, Y_GBC_pred)"
   ]
  },
  {
   "cell_type": "code",
   "execution_count": 11,
   "metadata": {},
   "outputs": [
    {
     "data": {
      "image/png": "[encoded data removed]",
      "text/plain": [
       "<matplotlib.figure.Figure at 0x1a1796c128>"
      ]
     },
     "metadata": {},
     "output_type": "display_data"
    }
   ],
   "source": [
    "feature_importance = gbc.feature_importances_\n",
    "import scipy\n",
    "from sklearn import datasets\n",
    "from sklearn.utils import shuffle\n",
    "from sklearn.metrics import mean_squared_error\n",
    "import matplotlib.pyplot as plt\n",
    "feature_importance = 100.0 * (feature_importance / feature_importance.max())\n",
    "sorted_idx = np.argsort(feature_importance)\n",
    "pos = np.arange(sorted_idx.shape[0]) + .5\n",
    "plt.barh(pos, feature_importance[sorted_idx], align='center')\n",
    "plt.yticks(pos, X_test.columns[sorted_idx])\n",
    "plt.xlabel('Relative Importance')\n",
    "plt.title('Variable Importance')\n",
    "plt.show()"
   ]
  },
  {
   "cell_type": "code",
   "execution_count": 12,
   "metadata": {},
   "outputs": [
    {
     "data": {
      "text/plain": [
       "0.97333333333333338"
      ]
     },
     "execution_count": 12,
     "metadata": {},
     "output_type": "execute_result"
    }
   ],
   "source": [
    "rfc = RandomForestClassifier()\n",
    "rfc.fit(X_train, Y_train)\n",
    "Y_RFC_Pred = rfc.predict(X_test)\n",
    "precision_score(Y_test, Y_RFC_Pred)"
   ]
  },
  {
   "cell_type": "code",
   "execution_count": 13,
   "metadata": {
    "collapsed": true
   },
   "outputs": [],
   "source": [
    "from sklearn.model_selection import GridSearchCV"
   ]
  },
  {
   "cell_type": "code",
   "execution_count": 14,
   "metadata": {},
   "outputs": [],
   "source": [
    "parameters = {'n_estimators':range(10,100,2), class_weight:[.1,.9]}\n",
    "GSrfc = GridSearchCV(rfc, parameters)"
   ]
  },
  {
   "cell_type": "code",
   "execution_count": 15,
   "metadata": {},
   "outputs": [
    {
     "data": {
      "text/plain": [
       "GridSearchCV(cv=None, error_score='raise',\n",
       "       estimator=RandomForestClassifier(bootstrap=True, class_weight=None, criterion='gini',\n",
       "            max_depth=None, max_features='auto', max_leaf_nodes=None,\n",
       "            min_impurity_decrease=0.0, min_impurity_split=None,\n",
       "            min_samples_leaf=1, min_samples_split=2,\n",
       "            min_weight_fraction_leaf=0.0, n_estimators=10, n_jobs=1,\n",
       "            oob_score=False, random_state=None, verbose=0,\n",
       "            warm_start=False),\n",
       "       fit_params=None, iid=True, n_jobs=1,\n",
       "       param_grid={'n_estimators': range(10, 100, 2)},\n",
       "       pre_dispatch='2*n_jobs', refit=True, return_train_score='warn',\n",
       "       scoring=None, verbose=0)"
      ]
     },
     "execution_count": 15,
     "metadata": {},
     "output_type": "execute_result"
    }
   ],
   "source": [
    "GSrfc.fit(X_train, Y_train)"
   ]
  },
  {
   "cell_type": "code",
   "execution_count": 17,
   "metadata": {},
   "outputs": [
    {
     "name": "stderr",
     "output_type": "stream",
     "text": [
      "/Users/joshuarkarnad/anaconda3/lib/python3.6/site-packages/sklearn/utils/deprecation.py:122: FutureWarning: You are accessing a training score ('mean_train_score'), which will not be available by default any more in 0.21. If you need training scores, please set return_train_score=True\n",
      "  warnings.warn(*warn_args, **warn_kwargs)\n",
      "/Users/joshuarkarnad/anaconda3/lib/python3.6/site-packages/sklearn/utils/deprecation.py:122: FutureWarning: You are accessing a training score ('split0_train_score'), which will not be available by default any more in 0.21. If you need training scores, please set return_train_score=True\n",
      "  warnings.warn(*warn_args, **warn_kwargs)\n",
      "/Users/joshuarkarnad/anaconda3/lib/python3.6/site-packages/sklearn/utils/deprecation.py:122: FutureWarning: You are accessing a training score ('split1_train_score'), which will not be available by default any more in 0.21. If you need training scores, please set return_train_score=True\n",
      "  warnings.warn(*warn_args, **warn_kwargs)\n",
      "/Users/joshuarkarnad/anaconda3/lib/python3.6/site-packages/sklearn/utils/deprecation.py:122: FutureWarning: You are accessing a training score ('split2_train_score'), which will not be available by default any more in 0.21. If you need training scores, please set return_train_score=True\n",
      "  warnings.warn(*warn_args, **warn_kwargs)\n",
      "/Users/joshuarkarnad/anaconda3/lib/python3.6/site-packages/sklearn/utils/deprecation.py:122: FutureWarning: You are accessing a training score ('std_train_score'), which will not be available by default any more in 0.21. If you need training scores, please set return_train_score=True\n",
      "  warnings.warn(*warn_args, **warn_kwargs)\n"
     ]
    },
    {
     "data": {
      "text/plain": [
       "{'mean_fit_time': array([   9.78230437,   16.69148008,   20.9260637 ,   20.88431191,\n",
       "          24.03473504,   28.3526063 ,   43.55877972,   41.42683935,\n",
       "          46.65595619,   39.86355122,   34.9944884 ,   34.38395548,\n",
       "          32.18537982,   37.995181  ,   45.22918161,   49.92279824,\n",
       "          52.39398662,   50.74289338,   41.98616807,   42.90740561,\n",
       "          44.76964339,   45.42171502,   47.88578598,   55.06211734,\n",
       "          61.66106311,   72.1643827 ,   63.9832952 ,   57.56246018,\n",
       "          68.96197565,   78.75077542,   78.1055971 ,  105.957364  ,\n",
       "          90.01556865,   99.25460045,   69.42304937,   70.17203466,\n",
       "          72.86755967,   93.95659232,   85.992613  ,   86.33455213,\n",
       "          79.08586558,   79.03808427,   79.77915923,   80.75687472,\n",
       "          83.49332078]),\n",
       " 'mean_score_time': array([ 0.07793061,  0.13664428,  0.14415963,  0.14053845,  0.15878765,\n",
       "         0.21582596,  0.27713927,  0.28683035,  0.30788891,  0.23197834,\n",
       "         0.22097492,  0.22211623,  0.23162421,  0.26005864,  0.3000133 ,\n",
       "         0.31388537,  0.38773783,  0.33659824,  0.29815563,  0.31029725,\n",
       "         0.31294123,  0.34922226,  0.39072911,  0.37149239,  0.41086165,\n",
       "         0.43981806,  0.41442609,  0.41243068,  0.47120126,  0.53258928,\n",
       "         0.51713753,  0.60754673,  0.63108524,  0.61510475,  0.51823735,\n",
       "         0.50788466,  0.5174195 ,  0.58143663,  0.59830173,  0.56713573,\n",
       "         0.56823866,  0.55649439,  0.57519341,  0.57470099,  0.58596492]),\n",
       " 'mean_test_score': array([ 0.99951722,  0.99946894,  0.99949088,  0.99947772,  0.9994821 ,\n",
       "         0.99953038,  0.99949088,  0.99953038,  0.99950844,  0.99949966,\n",
       "         0.99952599,  0.99951722,  0.99948649,  0.99953038,  0.99951283,\n",
       "         0.99950405,  0.99950844,  0.99953038,  0.99950405,  0.9995216 ,\n",
       "         0.99949527,  0.99951283,  0.9995216 ,  0.99949088,  0.99953916,\n",
       "         0.99953916,  0.99950844,  0.9995216 ,  0.99952599,  0.99950844,\n",
       "         0.99951283,  0.99951283,  0.99952599,  0.99953038,  0.99952599,\n",
       "         0.9995216 ,  0.99951283,  0.99951283,  0.9995216 ,  0.99953038,\n",
       "         0.99951283,  0.99949966,  0.99951722,  0.99953038,  0.99953477]),\n",
       " 'mean_train_score': array([ 0.99990564,  0.99993855,  0.99990564,  0.99995392,  0.9999583 ,\n",
       "         0.99995392,  0.99994733,  0.99994733,  0.99996489,  0.99996269,\n",
       "         0.99998464,  0.99997367,  0.99996928,  0.99998244,  0.99998025,\n",
       "         0.99998464,  0.99998903,  0.99998244,  0.99998683,  0.99999342,\n",
       "         0.99999122,  0.99998464,  0.99998683,  0.99998025,  0.99999781,\n",
       "         0.99999342,  0.99999561,  0.99999561,  0.99999781,  0.99999342,\n",
       "         0.99999342,  0.99999781,  0.99999781,  0.99999781,  0.99999561,\n",
       "         0.99999781,  1.        ,  0.99999342,  0.99999781,  1.        ,\n",
       "         0.99999561,  1.        ,  0.99999781,  0.99999781,  1.        ]),\n",
       " 'param_n_estimators': masked_array(data = [10 12 14 16 18 20 22 24 26 28 30 32 34 36 38 40 42 44 46 48 50 52 54 56 58\n",
       "  60 62 64 66 68 70 72 74 76 78 80 82 84 86 88 90 92 94 96 98],\n",
       "              mask = [False False False False False False False False False False False False\n",
       "  False False False False False False False False False False False False\n",
       "  False False False False False False False False False False False False\n",
       "  False False False False False False False False False],\n",
       "        fill_value = ?),\n",
       " 'params': [{'n_estimators': 10},\n",
       "  {'n_estimators': 12},\n",
       "  {'n_estimators': 14},\n",
       "  {'n_estimators': 16},\n",
       "  {'n_estimators': 18},\n",
       "  {'n_estimators': 20},\n",
       "  {'n_estimators': 22},\n",
       "  {'n_estimators': 24},\n",
       "  {'n_estimators': 26},\n",
       "  {'n_estimators': 28},\n",
       "  {'n_estimators': 30},\n",
       "  {'n_estimators': 32},\n",
       "  {'n_estimators': 34},\n",
       "  {'n_estimators': 36},\n",
       "  {'n_estimators': 38},\n",
       "  {'n_estimators': 40},\n",
       "  {'n_estimators': 42},\n",
       "  {'n_estimators': 44},\n",
       "  {'n_estimators': 46},\n",
       "  {'n_estimators': 48},\n",
       "  {'n_estimators': 50},\n",
       "  {'n_estimators': 52},\n",
       "  {'n_estimators': 54},\n",
       "  {'n_estimators': 56},\n",
       "  {'n_estimators': 58},\n",
       "  {'n_estimators': 60},\n",
       "  {'n_estimators': 62},\n",
       "  {'n_estimators': 64},\n",
       "  {'n_estimators': 66},\n",
       "  {'n_estimators': 68},\n",
       "  {'n_estimators': 70},\n",
       "  {'n_estimators': 72},\n",
       "  {'n_estimators': 74},\n",
       "  {'n_estimators': 76},\n",
       "  {'n_estimators': 78},\n",
       "  {'n_estimators': 80},\n",
       "  {'n_estimators': 82},\n",
       "  {'n_estimators': 84},\n",
       "  {'n_estimators': 86},\n",
       "  {'n_estimators': 88},\n",
       "  {'n_estimators': 90},\n",
       "  {'n_estimators': 92},\n",
       "  {'n_estimators': 94},\n",
       "  {'n_estimators': 96},\n",
       "  {'n_estimators': 98}],\n",
       " 'rank_test_score': array([20, 45, 39, 44, 43,  4, 39,  4, 30, 36, 11, 20, 42,  4, 23, 34, 30,\n",
       "         4, 34, 15, 38, 23, 15, 39,  1,  1, 30, 15, 11, 30, 23, 23, 11,  4,\n",
       "        11, 15, 23, 23, 15,  4, 23, 36, 20,  4,  3], dtype=int32),\n",
       " 'split0_test_score': array([ 0.9995655 ,  0.99949966,  0.99953916,  0.999526  ,  0.99946016,\n",
       "         0.9995655 ,  0.999526  ,  0.99957866,  0.9995655 ,  0.99955233,\n",
       "         0.99957866,  0.9995655 ,  0.99957866,  0.99959183,  0.99957866,\n",
       "         0.9995655 ,  0.99955233,  0.999605  ,  0.99955233,  0.9995655 ,\n",
       "         0.99953916,  0.99955233,  0.99959183,  0.99955233,  0.99957866,\n",
       "         0.99959183,  0.99959183,  0.9995655 ,  0.9995655 ,  0.9995655 ,\n",
       "         0.99959183,  0.99955233,  0.99959183,  0.99955233,  0.99953916,\n",
       "         0.9995655 ,  0.99957866,  0.99955233,  0.9995655 ,  0.99955233,\n",
       "         0.99955233,  0.99951283,  0.99957866,  0.99955233,  0.99961816]),\n",
       " 'split0_train_score': array([ 0.99986833,  0.9999605 ,  0.99992758,  0.9999605 ,  0.99995392,\n",
       "         0.99994075,  0.99993417,  0.99994733,  0.99998683,  0.9999605 ,\n",
       "         0.99999342,  0.99998025,  0.99996708,  0.99998025,  0.99998025,\n",
       "         0.99999342,  0.99999342,  0.99998025,  0.99997367,  0.99998683,\n",
       "         0.99999342,  0.99998683,  1.        ,  0.99998683,  1.        ,\n",
       "         1.        ,  0.99999342,  0.99999342,  1.        ,  0.99999342,\n",
       "         0.99998683,  1.        ,  0.99999342,  1.        ,  1.        ,\n",
       "         0.99999342,  1.        ,  1.        ,  0.99999342,  1.        ,\n",
       "         1.        ,  1.        ,  1.        ,  0.99999342,  1.        ]),\n",
       " 'split1_test_score': array([ 0.99952599,  0.99947332,  0.99951282,  0.99952599,  0.99951282,\n",
       "         0.99951282,  0.99949966,  0.99951282,  0.99949966,  0.99947332,\n",
       "         0.99952599,  0.99949966,  0.99944699,  0.99951282,  0.99949966,\n",
       "         0.99948649,  0.99951282,  0.99952599,  0.99951282,  0.99952599,\n",
       "         0.99949966,  0.99951282,  0.99948649,  0.99946016,  0.99953916,\n",
       "         0.99952599,  0.99947332,  0.99952599,  0.99949966,  0.99948649,\n",
       "         0.99951282,  0.99955233,  0.99949966,  0.99952599,  0.99955233,\n",
       "         0.99948649,  0.99948649,  0.99949966,  0.99952599,  0.99953916,\n",
       "         0.99949966,  0.99951282,  0.99949966,  0.99951282,  0.99948649]),\n",
       " 'split1_train_score': array([ 0.999921  ,  0.99992758,  0.99989467,  0.99994075,  0.99994733,\n",
       "         0.9999605 ,  0.99998025,  0.99994733,  0.99993417,  0.99997367,\n",
       "         0.99996708,  0.99995392,  0.99997367,  0.99999342,  0.99998025,\n",
       "         0.99998025,  0.99999342,  0.99998683,  0.99999342,  0.99999342,\n",
       "         0.99998683,  0.99999342,  0.99997367,  0.99998025,  0.99999342,\n",
       "         0.99999342,  0.99999342,  0.99999342,  0.99999342,  1.        ,\n",
       "         1.        ,  1.        ,  1.        ,  0.99999342,  1.        ,\n",
       "         1.        ,  1.        ,  0.99998683,  1.        ,  1.        ,\n",
       "         1.        ,  1.        ,  1.        ,  1.        ,  1.        ]),\n",
       " 'split2_test_score': array([ 0.99946016,  0.99943382,  0.99942066,  0.99938116,  0.99947332,\n",
       "         0.99951282,  0.99944699,  0.99949966,  0.99946016,  0.99947332,\n",
       "         0.99947332,  0.99948649,  0.99943382,  0.99948649,  0.99946016,\n",
       "         0.99946016,  0.99946016,  0.99946016,  0.99944699,  0.99947332,\n",
       "         0.99944699,  0.99947332,  0.99948649,  0.99946016,  0.99949966,\n",
       "         0.99949966,  0.99946016,  0.99947332,  0.99951282,  0.99947332,\n",
       "         0.99943382,  0.99943382,  0.99948649,  0.99951282,  0.99948649,\n",
       "         0.99951282,  0.99947332,  0.99948649,  0.99947332,  0.99949966,\n",
       "         0.99948649,  0.99947332,  0.99947332,  0.99952599,  0.99949966]),\n",
       " 'split2_train_score': array([ 0.99992758,  0.99992758,  0.99989467,  0.9999605 ,  0.99997367,\n",
       "         0.9999605 ,  0.99992758,  0.99994733,  0.99997367,  0.99995392,\n",
       "         0.99999342,  0.99998683,  0.99996708,  0.99997367,  0.99998025,\n",
       "         0.99998025,  0.99998025,  0.99998025,  0.99999342,  1.        ,\n",
       "         0.99999342,  0.99997367,  0.99998683,  0.99997367,  1.        ,\n",
       "         0.99998683,  1.        ,  1.        ,  1.        ,  0.99998683,\n",
       "         0.99999342,  0.99999342,  1.        ,  1.        ,  0.99998683,\n",
       "         1.        ,  1.        ,  0.99999342,  1.        ,  1.        ,\n",
       "         0.99998683,  1.        ,  0.99999342,  1.        ,  1.        ]),\n",
       " 'std_fit_time': array([  0.27541616,   2.16878207,   1.22292997,   1.72598098,\n",
       "          0.630548  ,   2.16478668,   3.15736254,   4.96154778,\n",
       "          1.77907769,   9.74605285,   1.55339502,   0.47980502,\n",
       "          2.65087849,   2.01681791,   1.79487794,   3.91048939,\n",
       "          3.75669271,   9.13142029,   1.65521089,   0.76632888,\n",
       "          1.62002362,   1.02110461,   1.02058204,   4.94005194,\n",
       "          3.75725935,   3.25797049,   9.97998855,   1.02753193,\n",
       "          8.07104852,   7.66950863,  10.41892883,   6.83950835,\n",
       "         15.29555273,  17.00106894,   1.25888948,   2.56181024,\n",
       "          3.18428285,  11.65758417,   4.72653747,   8.78887481,\n",
       "          2.53763428,   2.59897364,   1.36233352,   1.40503756,   2.4746691 ]),\n",
       " 'std_score_time': array([ 0.00286148,  0.01679683,  0.01955876,  0.00664272,  0.00044793,\n",
       "         0.02155706,  0.01536743,  0.02894864,  0.01830103,  0.05055411,\n",
       "         0.00057033,  0.00426714,  0.03088166,  0.0033748 ,  0.0122413 ,\n",
       "         0.01066535,  0.0678272 ,  0.05291743,  0.00647283,  0.00238763,\n",
       "         0.00749919,  0.01926289,  0.06034321,  0.01586124,  0.04171656,\n",
       "         0.02634735,  0.01610471,  0.00789852,  0.03277412,  0.09749307,\n",
       "         0.03999683,  0.1109503 ,  0.1282267 ,  0.09452247,  0.0196596 ,\n",
       "         0.00665306,  0.00745416,  0.06449451,  0.06420736,  0.01896711,\n",
       "         0.00600663,  0.02179241,  0.01508092,  0.01442388,  0.01695832]),\n",
       " 'std_test_score': array([  4.34507068e-05,   2.70579260e-05,   5.08078877e-05,\n",
       "          6.82777133e-05,   2.23771078e-05,   2.48305031e-05,\n",
       "          3.28462626e-05,   3.45614233e-05,   4.34511388e-05,\n",
       "          3.72444879e-05,   4.30052394e-05,   3.45615040e-05,\n",
       "          6.53968967e-05,   4.47614120e-05,   4.92685985e-05,\n",
       "          4.47615707e-05,   3.77576426e-05,   5.92126750e-05,\n",
       "          4.34507711e-05,   3.77575754e-05,   3.77577097e-05,\n",
       "          3.22546373e-05,   4.96581458e-05,   4.34514394e-05,\n",
       "          3.22544957e-05,   3.87648209e-05,   5.92130648e-05,\n",
       "          3.77575754e-05,   2.84464691e-05,   4.07043733e-05,\n",
       "          6.45066558e-05,   5.58637693e-05,   4.68639705e-05,\n",
       "          1.64246681e-05,   2.84446502e-05,   3.28466333e-05,\n",
       "          4.68640517e-05,   2.84465494e-05,   3.77575754e-05,\n",
       "          2.23813578e-05,   2.84465494e-05,   1.86223054e-05,\n",
       "          4.47614914e-05,   1.64246681e-05,   5.92129020e-05]),\n",
       " 'std_train_score': array([  2.65162824e-05,   1.55171200e-05,   1.55170179e-05,\n",
       "          9.31028429e-06,   1.11896825e-05,   9.31052946e-06,\n",
       "          2.34306037e-05,   1.63451231e-10,   2.23792573e-05,\n",
       "          8.21097618e-06,   1.24137839e-05,   1.42217677e-05,\n",
       "          3.10349961e-06,   8.21096459e-06,   6.12942115e-11,\n",
       "          6.20687662e-06,   6.20688684e-06,   3.10347917e-06,\n",
       "          9.31042730e-06,   5.37536591e-06,   3.10343831e-06,\n",
       "          8.21094528e-06,   1.07506611e-05,   5.37529514e-06,\n",
       "          3.10344853e-06,   5.37533053e-06,   3.10345874e-06,\n",
       "          3.10345874e-06,   3.10344853e-06,   5.37533053e-06,\n",
       "          5.37536591e-06,   3.10344853e-06,   3.10346896e-06,\n",
       "          3.10344853e-06,   6.20689705e-06,   3.10346896e-06,\n",
       "          0.00000000e+00,   5.37533053e-06,   3.10346896e-06,\n",
       "          0.00000000e+00,   6.20689705e-06,   0.00000000e+00,\n",
       "          3.10344853e-06,   3.10346896e-06,   0.00000000e+00])}"
      ]
     },
     "execution_count": 17,
     "metadata": {},
     "output_type": "execute_result"
    }
   ],
   "source": [
    "GSrfc.cv_results_"
   ]
  },
  {
   "cell_type": "code",
   "execution_count": 18,
   "metadata": {},
   "outputs": [
    {
     "data": {
      "text/plain": [
       "0.9995391603941276"
      ]
     },
     "execution_count": 18,
     "metadata": {},
     "output_type": "execute_result"
    }
   ],
   "source": [
    "GSrfc.best_score_"
   ]
  },
  {
   "cell_type": "code",
   "execution_count": 19,
   "metadata": {},
   "outputs": [
    {
     "data": {
      "text/plain": [
       "{'n_estimators': 58}"
      ]
     },
     "execution_count": 19,
     "metadata": {},
     "output_type": "execute_result"
    }
   ],
   "source": [
    "GSrfc.best_params_"
   ]
  },
  {
   "cell_type": "markdown",
   "metadata": {},
   "source": [
    "Best Algorithm is RandomForrest with n_estimators = to 58"
   ]
  },
  {
   "cell_type": "code",
   "execution_count": 20,
   "metadata": {},
   "outputs": [
    {
     "data": {
      "text/plain": [
       "0.97368421052631582"
      ]
     },
     "execution_count": 20,
     "metadata": {},
     "output_type": "execute_result"
    }
   ],
   "source": [
    "best_rfc = RandomForestClassifier(n_estimators=58)\n",
    "best_rfc.fit(X_train, Y_train)\n",
    "rfc_pred_y = best_rfc.predict(X_test)\n",
    "precision_score(Y_test, rfc_pred_y)"
   ]
  },
  {
   "cell_type": "code",
   "execution_count": null,
   "metadata": {
    "collapsed": true
   },
   "outputs": [],
   "source": []
  }
 ],
 "metadata": {
  "kernelspec": {
   "display_name": "Python 3",
   "language": "python",
   "name": "python3"
  },
  "language_info": {
   "codemirror_mode": {
    "name": "ipython",
    "version": 3
   },
   "file_extension": ".py",
   "mimetype": "text/x-python",
   "name": "python",
   "nbconvert_exporter": "python",
   "pygments_lexer": "ipython3",
   "version": "3.6.3"
  }
 },
 "nbformat": 4,
 "nbformat_minor": 2
}
