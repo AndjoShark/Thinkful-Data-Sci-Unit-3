{
 "cells": [
  {
   "cell_type": "code",
   "execution_count": 2,
   "metadata": {
    "collapsed": true
   },
   "outputs": [],
   "source": [
    "import pandas as pd\n",
    "import numpy as np\n",
    "import matplotlib.pyplot as plt\n",
    "import seaborn as sns\n",
    "import scipy\n",
    "from sklearn import neighbors"
   ]
  },
  {
   "cell_type": "code",
   "execution_count": 3,
   "metadata": {
    "collapsed": true
   },
   "outputs": [],
   "source": [
    "df = pd.read_csv('/Users/joshuarkarnad/Desktop/Thinkful/Data/insurance.csv')"
   ]
  },
  {
   "cell_type": "code",
   "execution_count": 4,
   "metadata": {},
   "outputs": [
    {
     "data": {
      "text/html": [
       "<div>\n",
       "<style>\n",
       "    .dataframe thead tr:only-child th {\n",
       "        text-align: right;\n",
       "    }\n",
       "\n",
       "    .dataframe thead th {\n",
       "        text-align: left;\n",
       "    }\n",
       "\n",
       "    .dataframe tbody tr th {\n",
       "        vertical-align: top;\n",
       "    }\n",
       "</style>\n",
       "<table border=\"1\" class=\"dataframe\">\n",
       "  <thead>\n",
       "    <tr style=\"text-align: right;\">\n",
       "      <th></th>\n",
       "      <th>age</th>\n",
       "      <th>sex</th>\n",
       "      <th>bmi</th>\n",
       "      <th>children</th>\n",
       "      <th>smoker</th>\n",
       "      <th>region</th>\n",
       "      <th>charges</th>\n",
       "    </tr>\n",
       "  </thead>\n",
       "  <tbody>\n",
       "    <tr>\n",
       "      <th>0</th>\n",
       "      <td>19</td>\n",
       "      <td>female</td>\n",
       "      <td>27.900</td>\n",
       "      <td>0</td>\n",
       "      <td>yes</td>\n",
       "      <td>southwest</td>\n",
       "      <td>16884.92400</td>\n",
       "    </tr>\n",
       "    <tr>\n",
       "      <th>1</th>\n",
       "      <td>18</td>\n",
       "      <td>male</td>\n",
       "      <td>33.770</td>\n",
       "      <td>1</td>\n",
       "      <td>no</td>\n",
       "      <td>southeast</td>\n",
       "      <td>1725.55230</td>\n",
       "    </tr>\n",
       "    <tr>\n",
       "      <th>2</th>\n",
       "      <td>28</td>\n",
       "      <td>male</td>\n",
       "      <td>33.000</td>\n",
       "      <td>3</td>\n",
       "      <td>no</td>\n",
       "      <td>southeast</td>\n",
       "      <td>4449.46200</td>\n",
       "    </tr>\n",
       "    <tr>\n",
       "      <th>3</th>\n",
       "      <td>33</td>\n",
       "      <td>male</td>\n",
       "      <td>22.705</td>\n",
       "      <td>0</td>\n",
       "      <td>no</td>\n",
       "      <td>northwest</td>\n",
       "      <td>21984.47061</td>\n",
       "    </tr>\n",
       "    <tr>\n",
       "      <th>4</th>\n",
       "      <td>32</td>\n",
       "      <td>male</td>\n",
       "      <td>28.880</td>\n",
       "      <td>0</td>\n",
       "      <td>no</td>\n",
       "      <td>northwest</td>\n",
       "      <td>3866.85520</td>\n",
       "    </tr>\n",
       "  </tbody>\n",
       "</table>\n",
       "</div>"
      ],
      "text/plain": [
       "   age     sex     bmi  children smoker     region      charges\n",
       "0   19  female  27.900         0    yes  southwest  16884.92400\n",
       "1   18    male  33.770         1     no  southeast   1725.55230\n",
       "2   28    male  33.000         3     no  southeast   4449.46200\n",
       "3   33    male  22.705         0     no  northwest  21984.47061\n",
       "4   32    male  28.880         0     no  northwest   3866.85520"
      ]
     },
     "execution_count": 4,
     "metadata": {},
     "output_type": "execute_result"
    }
   ],
   "source": [
    "df.head()"
   ]
  },
  {
   "cell_type": "code",
   "execution_count": 5,
   "metadata": {},
   "outputs": [],
   "source": [
    "dummies = pd.get_dummies(df[['region', 'smoker', 'sex']])\n",
    "num_features = df[['age', 'bmi', 'children']]\n",
    "all_features = pd.concat([dummies, num_features], axis=1)"
   ]
  },
  {
   "cell_type": "code",
   "execution_count": 6,
   "metadata": {
    "collapsed": true
   },
   "outputs": [],
   "source": [
    "def try_neighbors(x, y, num_neighbors):\n",
    "    for i in range(num_neighbors):  \n",
    "        knn_w = neighbors.KNeighborsRegressor(n_neighbors=(i+1), weights='distance')\n",
    "        knn_w.fit(x, y)\n",
    "        knn = neighbors.KNeighborsRegressor(n_neighbors=(i+1))\n",
    "        knn.fit(x,y)\n",
    "        print('Neighbors: %d' % (i + 1))\n",
    "        score_w = cross_val_score(knn_w, x, y, cv=5)\n",
    "        print(\"Weighted Accuracy: %0.2f (+/- %0.2f)\" % (score_w.mean(), score_w.std() * 2))\n",
    "        score = cross_val_score(knn, X, Y, cv=5)\n",
    "        print(\"Unweighted Accuracy: %0.2f (+/- %0.2f)\" % (score.mean(), score.std() * 2))\n"
   ]
  },
  {
   "cell_type": "code",
   "execution_count": 9,
   "metadata": {},
   "outputs": [
    {
     "name": "stdout",
     "output_type": "stream",
     "text": [
      "Neighbors: 1\n",
      "Weighted Accuracy: 0.05 (+/- 0.17)\n",
      "Unweighted Accuracy: 0.05 (+/- 0.17)\n",
      "Neighbors: 2\n",
      "Weighted Accuracy: 0.26 (+/- 0.18)\n",
      "Unweighted Accuracy: 0.25 (+/- 0.18)\n",
      "Neighbors: 3\n",
      "Weighted Accuracy: 0.30 (+/- 0.16)\n",
      "Unweighted Accuracy: 0.28 (+/- 0.15)\n",
      "Neighbors: 4\n",
      "Weighted Accuracy: 0.29 (+/- 0.14)\n",
      "Unweighted Accuracy: 0.26 (+/- 0.14)\n",
      "Neighbors: 5\n",
      "Weighted Accuracy: 0.28 (+/- 0.12)\n",
      "Unweighted Accuracy: 0.25 (+/- 0.11)\n",
      "Neighbors: 6\n",
      "Weighted Accuracy: 0.28 (+/- 0.09)\n",
      "Unweighted Accuracy: 0.25 (+/- 0.09)\n",
      "Neighbors: 7\n",
      "Weighted Accuracy: 0.28 (+/- 0.08)\n",
      "Unweighted Accuracy: 0.25 (+/- 0.08)\n",
      "Neighbors: 8\n",
      "Weighted Accuracy: 0.28 (+/- 0.08)\n",
      "Unweighted Accuracy: 0.25 (+/- 0.08)\n",
      "Neighbors: 9\n",
      "Weighted Accuracy: 0.27 (+/- 0.06)\n",
      "Unweighted Accuracy: 0.24 (+/- 0.06)\n",
      "Neighbors: 10\n",
      "Weighted Accuracy: 0.27 (+/- 0.06)\n",
      "Unweighted Accuracy: 0.23 (+/- 0.06)\n",
      "Neighbors: 11\n",
      "Weighted Accuracy: 0.26 (+/- 0.06)\n",
      "Unweighted Accuracy: 0.22 (+/- 0.06)\n",
      "Neighbors: 12\n",
      "Weighted Accuracy: 0.25 (+/- 0.05)\n",
      "Unweighted Accuracy: 0.22 (+/- 0.05)\n",
      "Neighbors: 13\n",
      "Weighted Accuracy: 0.25 (+/- 0.04)\n",
      "Unweighted Accuracy: 0.21 (+/- 0.04)\n",
      "Neighbors: 14\n",
      "Weighted Accuracy: 0.24 (+/- 0.05)\n",
      "Unweighted Accuracy: 0.21 (+/- 0.04)\n",
      "Neighbors: 15\n",
      "Weighted Accuracy: 0.24 (+/- 0.04)\n",
      "Unweighted Accuracy: 0.21 (+/- 0.03)\n",
      "Neighbors: 16\n",
      "Weighted Accuracy: 0.24 (+/- 0.04)\n",
      "Unweighted Accuracy: 0.20 (+/- 0.03)\n",
      "Neighbors: 17\n",
      "Weighted Accuracy: 0.24 (+/- 0.04)\n",
      "Unweighted Accuracy: 0.20 (+/- 0.03)\n",
      "Neighbors: 18\n",
      "Weighted Accuracy: 0.23 (+/- 0.04)\n",
      "Unweighted Accuracy: 0.20 (+/- 0.03)\n",
      "Neighbors: 19\n",
      "Weighted Accuracy: 0.23 (+/- 0.04)\n",
      "Unweighted Accuracy: 0.20 (+/- 0.04)\n",
      "Neighbors: 20\n",
      "Weighted Accuracy: 0.23 (+/- 0.04)\n",
      "Unweighted Accuracy: 0.19 (+/- 0.04)\n"
     ]
    }
   ],
   "source": [
    "from sklearn import neighbors\n",
    "from sklearn.model_selection import cross_val_score\n",
    "X = all_features\n",
    "Y = df.charges\n",
    "try_neighbors(X,Y,20)"
   ]
  },
  {
   "cell_type": "code",
   "execution_count": 14,
   "metadata": {},
   "outputs": [
    {
     "name": "stdout",
     "output_type": "stream",
     "text": [
      "Coefficients: \n",
      " [   587.00923503    234.0453356    -448.01281436   -373.04175627\n",
      " -11924.26727096  11924.26727096     65.6571797     -65.6571797\n",
      "    256.85635254    339.19345361    475.50054515]\n",
      "Intercept: \n",
      " -666.937719937\n",
      "R-Squared: \n",
      " 0.750913034599\n"
     ]
    }
   ],
   "source": [
    "from sklearn import linear_model\n",
    "\n",
    "regr = linear_model.LinearRegression()\n",
    "regr.fit(X, Y)\n",
    "\n",
    "print('Coefficients: \\n', regr.coef_)\n",
    "print('Intercept: \\n', regr.intercept_)\n",
    "print('R-Squared: \\n', regr.score(X,Y))"
   ]
  },
  {
   "cell_type": "markdown",
   "metadata": {},
   "source": [
    "If I was given an option between the two models I would pick the linear regression model for this data. Since there is a clear correlation upward the regression model is better.  In general I would think regression is better model but there may be some cases where the nearest neighbor model might be better."
   ]
  },
  {
   "cell_type": "code",
   "execution_count": null,
   "metadata": {
    "collapsed": true
   },
   "outputs": [],
   "source": []
  }
 ],
 "metadata": {
  "kernelspec": {
   "display_name": "Python 3",
   "language": "python",
   "name": "python3"
  },
  "language_info": {
   "codemirror_mode": {
    "name": "ipython",
    "version": 3
   },
   "file_extension": ".py",
   "mimetype": "text/x-python",
   "name": "python",
   "nbconvert_exporter": "python",
   "pygments_lexer": "ipython3",
   "version": "3.6.3"
  }
 },
 "nbformat": 4,
 "nbformat_minor": 2
}
