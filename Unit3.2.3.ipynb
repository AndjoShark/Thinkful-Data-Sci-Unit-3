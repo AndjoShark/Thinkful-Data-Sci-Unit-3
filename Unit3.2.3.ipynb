{
 "cells": [
  {
   "cell_type": "code",
   "execution_count": 1,
   "metadata": {},
   "outputs": [
    {
     "name": "stderr",
     "output_type": "stream",
     "text": [
      "/Users/joshuarkarnad/anaconda3/lib/python3.6/site-packages/IPython/core/interactiveshell.py:2698: DtypeWarning: Columns (0,19,55) have mixed types. Specify dtype option on import or set low_memory=False.\n",
      "  interactivity=interactivity, compiler=compiler, result=result)\n"
     ]
    }
   ],
   "source": [
    "import numpy as np \n",
    "import pandas as pd\n",
    "import matplotlib.pyplot as plt\n",
    "%matplotlib inline\n",
    "y2015 = pd.read_csv('/Users/joshuarkarnad/Desktop/Thinkful/Data/LoanStats3d.csv',\n",
    "                    skipinitialspace=True, \n",
    "                    header=1)\n",
    "# Convert ID and Interest Rate to numeric.\n",
    "y2015['id'] = pd.to_numeric(y2015['id'], errors='coerce')\n",
    "y2015['int_rate'] = pd.to_numeric(y2015['int_rate'].str.strip('%'), errors='coerce')\n",
    "# Drop other columns with many unique variables\n",
    "y2015.drop(['url', 'emp_title', 'zip_code', 'earliest_cr_line', 'revol_util',\n",
    "            'sub_grade', 'addr_state', 'desc'], 1, inplace=True)"
   ]
  },
  {
   "cell_type": "code",
   "execution_count": 2,
   "metadata": {
    "collapsed": true
   },
   "outputs": [],
   "source": [
    "y2015 = y2015[:-2]\n",
    "from sklearn import ensemble\n",
    "from sklearn.model_selection import cross_val_score\n",
    "features = y2015.drop('loan_status', 1)"
   ]
  },
  {
   "cell_type": "code",
   "execution_count": 3,
   "metadata": {
    "collapsed": true
   },
   "outputs": [],
   "source": [
    "features = features.drop(['member_id', 'id'], axis = 1)"
   ]
  },
  {
   "cell_type": "code",
   "execution_count": 4,
   "metadata": {},
   "outputs": [
    {
     "data": {
      "text/plain": [
       "dti_joint                         420586\n",
       "annual_inc_joint                  420584\n",
       "verification_status_joint         420584\n",
       "il_util                           402478\n",
       "mths_since_rcnt_il                400285\n",
       "open_rv_12m                       399723\n",
       "inq_last_12m                      399723\n",
       "total_cu_tl                       399723\n",
       "inq_fi                            399723\n",
       "all_util                          399723\n",
       "max_bal_bc                        399723\n",
       "open_rv_24m                       399723\n",
       "open_il_6m                        399723\n",
       "total_bal_il                      399723\n",
       "open_il_24m                       399723\n",
       "open_il_12m                       399723\n",
       "open_acc_6m                       399723\n",
       "mths_since_last_record            346680\n",
       "mths_since_recent_bc_dlq          312495\n",
       "mths_since_last_major_derog       298366\n",
       "mths_since_recent_revol_delinq    269358\n",
       "mths_since_last_delinq            203962\n",
       "next_pymnt_d                      117167\n",
       "mths_since_recent_inq              44599\n",
       "num_tl_120dpd_2m                   19230\n",
       "mo_sin_old_il_acct                 12254\n",
       "percent_bc_gt_75                    4239\n",
       "bc_util                             4227\n",
       "bc_open_to_buy                      3963\n",
       "mths_since_recent_bc                3798\n",
       "                                   ...  \n",
       "num_op_rev_tl                          0\n",
       "num_rev_tl_bal_gt_0                    0\n",
       "num_sats                               0\n",
       "num_tl_90g_dpd_24m                     0\n",
       "num_actv_bc_tl                         0\n",
       "num_tl_op_past_12m                     0\n",
       "pct_tl_nvr_dlq                         0\n",
       "pub_rec_bankruptcies                   0\n",
       "tax_liens                              0\n",
       "tot_hi_cred_lim                        0\n",
       "total_bal_ex_mort                      0\n",
       "num_actv_rev_tl                        0\n",
       "num_accts_ever_120_pd                  0\n",
       "collections_12_mths_ex_med             0\n",
       "total_rev_hi_lim                       0\n",
       "policy_code                            0\n",
       "application_type                       0\n",
       "acc_now_delinq                         0\n",
       "tot_coll_amt                           0\n",
       "tot_cur_bal                            0\n",
       "total_bc_limit                         0\n",
       "acc_open_past_24mths                   0\n",
       "mort_acc                               0\n",
       "avg_cur_bal                            0\n",
       "chargeoff_within_12_mths               0\n",
       "delinq_amnt                            0\n",
       "mo_sin_old_rev_tl_op                   0\n",
       "mo_sin_rcnt_rev_tl_op                  0\n",
       "mo_sin_rcnt_tl                         0\n",
       "loan_amnt                              0\n",
       "Length: 100, dtype: int64"
      ]
     },
     "execution_count": 4,
     "metadata": {},
     "output_type": "execute_result"
    }
   ],
   "source": [
    "features.isnull().sum().sort_values(ascending=False)"
   ]
  },
  {
   "cell_type": "code",
   "execution_count": 5,
   "metadata": {
    "collapsed": true
   },
   "outputs": [],
   "source": [
    "null_counts = features.isnull().sum().sort_values(ascending=False)\n",
    "drop_columns = list(null_counts[null_counts > 0].index)\n",
    "features = features.drop(drop_columns, axis = 1)"
   ]
  },
  {
   "cell_type": "code",
   "execution_count": 6,
   "metadata": {},
   "outputs": [
    {
     "data": {
      "text/plain": [
       "total_il_high_credit_limit    0\n",
       "inq_last_6mths                0\n",
       "collection_recovery_fee       0\n",
       "recoveries                    0\n",
       "total_rec_late_fee            0\n",
       "total_rec_int                 0\n",
       "total_rec_prncp               0\n",
       "total_pymnt_inv               0\n",
       "total_pymnt                   0\n",
       "out_prncp_inv                 0\n",
       "out_prncp                     0\n",
       "initial_list_status           0\n",
       "total_acc                     0\n",
       "revol_bal                     0\n",
       "pub_rec                       0\n",
       "open_acc                      0\n",
       "delinq_2yrs                   0\n",
       "total_bc_limit                0\n",
       "dti                           0\n",
       "purpose                       0\n",
       "pymnt_plan                    0\n",
       "issue_d                       0\n",
       "verification_status           0\n",
       "annual_inc                    0\n",
       "home_ownership                0\n",
       "emp_length                    0\n",
       "grade                         0\n",
       "installment                   0\n",
       "int_rate                      0\n",
       "term                          0\n",
       "                             ..\n",
       "total_bal_ex_mort             0\n",
       "tot_hi_cred_lim               0\n",
       "tax_liens                     0\n",
       "pub_rec_bankruptcies          0\n",
       "pct_tl_nvr_dlq                0\n",
       "num_tl_op_past_12m            0\n",
       "num_tl_90g_dpd_24m            0\n",
       "num_tl_30dpd                  0\n",
       "num_sats                      0\n",
       "num_rev_tl_bal_gt_0           0\n",
       "num_op_rev_tl                 0\n",
       "num_il_tl                     0\n",
       "num_bc_tl                     0\n",
       "num_bc_sats                   0\n",
       "num_actv_rev_tl               0\n",
       "num_actv_bc_tl                0\n",
       "num_accts_ever_120_pd         0\n",
       "mort_acc                      0\n",
       "mo_sin_rcnt_tl                0\n",
       "mo_sin_rcnt_rev_tl_op         0\n",
       "mo_sin_old_rev_tl_op          0\n",
       "delinq_amnt                   0\n",
       "chargeoff_within_12_mths      0\n",
       "avg_cur_bal                   0\n",
       "acc_open_past_24mths          0\n",
       "total_rev_hi_lim              0\n",
       "tot_cur_bal                   0\n",
       "tot_coll_amt                  0\n",
       "acc_now_delinq                0\n",
       "loan_amnt                     0\n",
       "Length: 66, dtype: int64"
      ]
     },
     "execution_count": 6,
     "metadata": {},
     "output_type": "execute_result"
    }
   ],
   "source": [
    "features.isnull().sum().sort_values(ascending=False)"
   ]
  },
  {
   "cell_type": "code",
   "execution_count": 9,
   "metadata": {},
   "outputs": [
    {
     "name": "stdout",
     "output_type": "stream",
     "text": [
      "CPU times: user 5min 50s, sys: 13.6 s, total: 6min 3s\n",
      "Wall time: 6min 6s\n"
     ]
    },
    {
     "data": {
      "text/plain": [
       "array([ 0.95480991,  0.96504476,  0.96226639,  0.96088908,  0.96065068,\n",
       "        0.9604132 ,  0.94739842,  0.96043601,  0.96041038,  0.9601957 ])"
      ]
     },
     "execution_count": 9,
     "metadata": {},
     "output_type": "execute_result"
    }
   ],
   "source": [
    "##Use this one ran multiple this gives \n",
    "##accuracies of over .95 while reducing time by 3 min\n",
    "\n",
    "rfc = ensemble.RandomForestClassifier()\n",
    "X = features\n",
    "Y = y2015['loan_status']\n",
    "X = pd.get_dummies(X)\n",
    "%time cross_val_score(rfc, X, Y, cv=10)"
   ]
  },
  {
   "cell_type": "code",
   "execution_count": null,
   "metadata": {
    "collapsed": true
   },
   "outputs": [],
   "source": []
  }
 ],
 "metadata": {
  "kernelspec": {
   "display_name": "Python 3",
   "language": "python",
   "name": "python3"
  },
  "language_info": {
   "codemirror_mode": {
    "name": "ipython",
    "version": 3
   },
   "file_extension": ".py",
   "mimetype": "text/x-python",
   "name": "python",
   "nbconvert_exporter": "python",
   "pygments_lexer": "ipython3",
   "version": "3.6.3"
  }
 },
 "nbformat": 4,
 "nbformat_minor": 2
}
